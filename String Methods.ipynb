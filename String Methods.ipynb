{
 "cells": [
  {
   "cell_type": "markdown",
   "metadata": {},
   "source": [
    "String Methods"
   ]
  },
  {
   "cell_type": "code",
   "execution_count": null,
   "metadata": {},
   "outputs": [],
   "source": [
    "name = input(\"What's your name?: \")\n",
    "phone_num = input(\"What's your number?: \")\n",
    "\n",
    "# String methods\n",
    "name_length = len(name) # How long the name is\n",
    "\n",
    "result = name.find(\"a\") # How many \"a\"s are in the name\n",
    "\n",
    "capitals = name.capitalize() # Makes the first letter upper case\n",
    "\n",
    "upper_case = name.upper() # Makes the whole string upper case\n",
    "\n",
    "lower_case = name.lower() # Makes the whole string lower case\n",
    "\n",
    "numbers = name.isdigit() # Checks to see if there are numbers in the string\n",
    "\n",
    "real_name = name.isalpha() # Checks if the string has only letters\n",
    "\n",
    "number_of_something = phone_num.count(\"3\") # Checks how many time 3 appears in the string\n",
    "\n",
    "wrong_number = phone_num.replace(\"9\",\"3\") # Replaces any 3 in the string and replaces it with a 9\n",
    "\n",
    "print(name_length)\n",
    "print(result)\n",
    "print(capitals)\n",
    "print(upper_case)\n",
    "print(lower_case)\n",
    "print(numbers)\n",
    "print(real_name)\n",
    "print(number_of_something)\n",
    "print(wrong_number)"
   ]
  },
  {
   "cell_type": "markdown",
   "metadata": {},
   "source": [
    "Valid or not?"
   ]
  },
  {
   "cell_type": "code",
   "execution_count": null,
   "metadata": {},
   "outputs": [],
   "source": [
    "username = input(\"Enter an username\")\n",
    "\n",
    "if len(username) > 12:\n",
    "    print(\"The username is more than 12 characters so it will not work!\")\n",
    "elif not username.find(\" \") == -1:\n",
    "    print(\"The username cannot have any spaces!\")\n",
    "elif not username.isalpha():\n",
    "    print(\"The username cannot contain numbers!\")\n",
    "else:\n",
    "    print(f\"Welcome {username}\")"
   ]
  }
 ],
 "metadata": {
  "kernelspec": {
   "display_name": "Python 3",
   "language": "python",
   "name": "python3"
  },
  "language_info": {
   "codemirror_mode": {
    "name": "ipython",
    "version": 3
   },
   "file_extension": ".py",
   "mimetype": "text/x-python",
   "name": "python",
   "nbconvert_exporter": "python",
   "pygments_lexer": "ipython3",
   "version": "3.11.7"
  }
 },
 "nbformat": 4,
 "nbformat_minor": 2
}
