{
 "cells": [
  {
   "cell_type": "markdown",
   "metadata": {},
   "source": [
    "String Indexing\n"
   ]
  },
  {
   "cell_type": "markdown",
   "metadata": {},
   "source": [
    "Accessing elements of a credit card number using []"
   ]
  },
  {
   "cell_type": "code",
   "execution_count": null,
   "metadata": {},
   "outputs": [],
   "source": [
    "credit_number = \"0123-4567-8910-1357\"\n",
    "\n",
    "print(credit_number[0]) # First number of the list\n",
    "print(credit_number[:5]) # Ends before the 5th index\n",
    "print(credit_number[4:9]) # It skips the starting index so it is only the 5th index to 8th index\n",
    "print(credit_number[4:]) # Returns any number after the 4th index of the string\n",
    "print(credit_number[-1]) # Last number of the list\n",
    "print(credit_number[::3]) # Returns only every 3 numbers\n",
    "\n",
    "last_4_digits = credit_number[-4:]\n",
    "print(f\"This is the credit number used: XXXX-XXXX-XXXX-{last_4_digits}.\")\n",
    "\n",
    "reverse_number = credit_number[::-1]\n",
    "print(reverse_number)"
   ]
  },
  {
   "cell_type": "markdown",
   "metadata": {},
   "source": [
    "Email Slice"
   ]
  },
  {
   "cell_type": "code",
   "execution_count": null,
   "metadata": {},
   "outputs": [],
   "source": [
    "email = input(\"Enter the email: \")\n",
    "index = email.index(\"@\")\n",
    "\n",
    "username = email[:index]\n",
    "domain = email[index:]\n",
    "\n",
    "print(f\"The username is: {username} and the domain is: {domain}.\")"
   ]
  }
 ],
 "metadata": {
  "kernelspec": {
   "display_name": "Python 3",
   "language": "python",
   "name": "python3"
  },
  "language_info": {
   "codemirror_mode": {
    "name": "ipython",
    "version": 3
   },
   "file_extension": ".py",
   "mimetype": "text/x-python",
   "name": "python",
   "nbconvert_exporter": "python",
   "pygments_lexer": "ipython3",
   "version": "3.11.7"
  }
 },
 "nbformat": 4,
 "nbformat_minor": 2
}
